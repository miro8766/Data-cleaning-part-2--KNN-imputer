{
 "cells": [
  {
   "cell_type": "code",
   "execution_count": null,
   "id": "7ba77e45",
   "metadata": {},
   "outputs": [],
   "source": [
    "import pandas as pd"
   ]
  },
  {
   "cell_type": "code",
   "execution_count": null,
   "id": "a6f6e12a",
   "metadata": {},
   "outputs": [],
   "source": [
    "# load dataset\n",
    "df =pd.read_csv(r'C:\\Users\\afard\\Downloads\\Airbnb_Open_Data.csv', na_values='?')"
   ]
  },
  {
   "cell_type": "code",
   "execution_count": null,
   "id": "6a5acaf7",
   "metadata": {},
   "outputs": [],
   "source": [
    "df.head()"
   ]
  },
  {
   "cell_type": "code",
   "execution_count": null,
   "id": "6789fab4",
   "metadata": {},
   "outputs": [],
   "source": [
    "df.info()"
   ]
  },
  {
   "cell_type": "code",
   "execution_count": null,
   "id": "62e0c646",
   "metadata": {},
   "outputs": [],
   "source": [
    "#let's get rid of some of the useless non-numeric columns\n",
    "df = df.drop(['host_identity_verified', 'host name', 'neighbourhood', 'country', 'country code', 'house_rules','license'], axis=1)\n"
   ]
  },
  {
   "cell_type": "code",
   "execution_count": null,
   "id": "d23d9375",
   "metadata": {},
   "outputs": [],
   "source": [
    "df.head()"
   ]
  },
  {
   "cell_type": "code",
   "execution_count": null,
   "id": "59b9c08a",
   "metadata": {},
   "outputs": [],
   "source": [
    "# we have to fix first the last_review and then price and service fees. these are all object\n",
    "df['last review'] = pd.to_datetime(df['last review'])"
   ]
  },
  {
   "cell_type": "code",
   "execution_count": null,
   "id": "012c4b9c",
   "metadata": {},
   "outputs": [],
   "source": [
    "print(df['last review'].dtypes)"
   ]
  },
  {
   "cell_type": "code",
   "execution_count": null,
   "id": "c49a2e94",
   "metadata": {},
   "outputs": [],
   "source": [
    "# we need to first remove the dollar\n",
    "df['price'] = df['price'].str.replace('$', '').str.replace(',', '')"
   ]
  },
  {
   "cell_type": "code",
   "execution_count": null,
   "id": "b78c1ec7",
   "metadata": {},
   "outputs": [],
   "source": [
    "df['price'] = pd.to_numeric(df['price'])"
   ]
  },
  {
   "cell_type": "code",
   "execution_count": null,
   "id": "57795156",
   "metadata": {},
   "outputs": [],
   "source": [
    "df['service fee'] = df['service fee'].str.replace('$', '').str.replace(',', '')\n",
    "df['service fee'] = pd.to_numeric(df['service fee'])"
   ]
  },
  {
   "cell_type": "code",
   "execution_count": null,
   "id": "a4d9be2f",
   "metadata": {},
   "outputs": [],
   "source": [
    "df.head()"
   ]
  },
  {
   "cell_type": "code",
   "execution_count": null,
   "id": "48628e05",
   "metadata": {},
   "outputs": [],
   "source": [
    "df.info()"
   ]
  },
  {
   "cell_type": "code",
   "execution_count": null,
   "id": "a7206ad5",
   "metadata": {},
   "outputs": [],
   "source": [
    "df = df.drop(['NAME'], axis=1)"
   ]
  },
  {
   "cell_type": "code",
   "execution_count": null,
   "id": "3b07e338",
   "metadata": {},
   "outputs": [],
   "source": [
    "# we have some variables that need to be changed from object to numeric such as binary variables\n",
    "df['neighbourhood group'].value_counts()"
   ]
  },
  {
   "cell_type": "code",
   "execution_count": null,
   "id": "675ee6d7",
   "metadata": {},
   "outputs": [],
   "source": [
    "df.loc[df['neighbourhood group']=='manhatan', 'neighbourhood group'] = 'Manhattan'\n",
    "df.loc[df['neighbourhood group']=='brookln', 'neighbourhood group'] = 'Brooklyn'"
   ]
  },
  {
   "cell_type": "code",
   "execution_count": null,
   "id": "8aa026d1",
   "metadata": {},
   "outputs": [],
   "source": [
    "df['neighbourhood group'].value_counts()"
   ]
  },
  {
   "cell_type": "code",
   "execution_count": null,
   "id": "34f98af3",
   "metadata": {},
   "outputs": [],
   "source": [
    "# first we are going to create a categorical number for each neighborhood, create a new var and delet the old one\n",
    "df['Neighborhood'] = df['neighbourhood group'].astype('category').cat.codes\n",
    "# it is better to jot down the name of each group because once you delete the original value you won't have it anymore\n",
    "df = df.drop(['neighbourhood group'], axis=1)"
   ]
  },
  {
   "cell_type": "code",
   "execution_count": null,
   "id": "df026172",
   "metadata": {},
   "outputs": [],
   "source": [
    "df.head()"
   ]
  },
  {
   "cell_type": "code",
   "execution_count": null,
   "id": "6f3c8e96",
   "metadata": {},
   "outputs": [],
   "source": [
    "df['instant_bookable'].value_counts()"
   ]
  },
  {
   "cell_type": "code",
   "execution_count": null,
   "id": "bd49606e",
   "metadata": {},
   "outputs": [],
   "source": [
    "df['cancellation_policy'].value_counts()"
   ]
  },
  {
   "cell_type": "code",
   "execution_count": null,
   "id": "f4f0c9a5",
   "metadata": {},
   "outputs": [],
   "source": [
    "df['room type'].value_counts()"
   ]
  },
  {
   "cell_type": "code",
   "execution_count": null,
   "id": "9536a732",
   "metadata": {},
   "outputs": [],
   "source": [
    "df['cpolicy'] = df['cancellation_policy'].astype('category').cat.codes\n",
    "df['rtype'] = df['room type'].astype('category').cat.codes"
   ]
  },
  {
   "cell_type": "code",
   "execution_count": null,
   "id": "9444dc19",
   "metadata": {},
   "outputs": [],
   "source": [
    "df = df.drop(['cancellation_policy','room type'], axis=1)"
   ]
  },
  {
   "cell_type": "code",
   "execution_count": null,
   "id": "26cc7277",
   "metadata": {},
   "outputs": [],
   "source": [
    "# lastly i am changing the instant_bookable into 0 and 1\n",
    "\n",
    "df['instantb'] = df['instant_bookable'].astype(bool).astype(int)\n",
    "df = df.drop(['instant_bookable'], axis=1)"
   ]
  },
  {
   "cell_type": "code",
   "execution_count": null,
   "id": "41d78baf",
   "metadata": {},
   "outputs": [],
   "source": [
    "df.info()\n",
    "#finally everything is numeric"
   ]
  },
  {
   "cell_type": "code",
   "execution_count": null,
   "id": "be187baa",
   "metadata": {},
   "outputs": [],
   "source": [
    "# summarize the number of rows with missing values for each column\n",
    "for i in range(dataframe.shape[1]):\n",
    " # count number of rows with missing values\n",
    " n_miss = dataframe[[i]].isnull().sum()\n",
    " perc = n_miss / dataframe.shape[0] * 100\n",
    " print('> %d, Missing: %d (%.1f%%)' % (i, n_miss, perc))"
   ]
  },
  {
   "cell_type": "markdown",
   "id": "1fe2bbc7",
   "metadata": {},
   "source": [
    "## Nearest Neighbor Imputation with KNNImputer"
   ]
  },
  {
   "cell_type": "markdown",
   "id": "b00e22f8",
   "metadata": {},
   "source": [
    "\"KNNImputer is a data transform that is first configured based on the method used to estimate the missing values.\n",
    "\n",
    "The default distance measure is a Euclidean distance measure that is NaN aware, e.g. will not include NaN values when calculating the distance between members of the training dataset. This is set via the “metric” argument.\n",
    "\n",
    "The number of neighbors is set to five by default and can be configured by the “n_neighbors” argument.\n",
    "\n",
    "Finally, the distance measure can be weighed proportional to the distance between instances (rows), although this is set to a uniform weighting by default, controlled via the “weights” argument.\"\n",
    "\n",
    "**SOURCE: https://machinelearningmastery.com/knn-imputation-for-missing-values-in-machine-learning/**"
   ]
  },
  {
   "cell_type": "code",
   "execution_count": null,
   "id": "8cccad8a",
   "metadata": {},
   "outputs": [],
   "source": [
    "import numpy as np\n",
    "from sklearn.impute import KNNImputer"
   ]
  },
  {
   "cell_type": "code",
   "execution_count": null,
   "id": "e43581ba",
   "metadata": {},
   "outputs": [],
   "source": [
    "# define imputer\n",
    "imputer = KNNImputer(n_neighbors=5, weights='uniform', metric='nan_euclidean')"
   ]
  },
  {
   "cell_type": "code",
   "execution_count": null,
   "id": "dd6e8de5",
   "metadata": {},
   "outputs": [],
   "source": [
    "df = df.drop(df[df['last review'] > pd.Timestamp('2022-12-31')].index)"
   ]
  },
  {
   "cell_type": "code",
   "execution_count": null,
   "id": "ec854a8d",
   "metadata": {},
   "outputs": [],
   "source": [
    "df.info()"
   ]
  },
  {
   "cell_type": "code",
   "execution_count": null,
   "id": "0983ed3a",
   "metadata": {},
   "outputs": [],
   "source": [
    "# Separate the datetime column from the numerical and categorical columns\n",
    "datetime_col = df['last review']\n",
    "df_numerical = df.select_dtypes(include=['float64','int64', 'int8', 'int32'])\n",
    "df_categorical = df.select_dtypes(include=['object'])"
   ]
  },
  {
   "cell_type": "code",
   "execution_count": null,
   "id": "70d6e14b",
   "metadata": {},
   "outputs": [],
   "source": [
    "# Use the KNNImputer to impute missing values in the numerical columns\n",
    "df_imputed = pd.DataFrame(imputer.fit_transform(df_numerical), columns=df_numerical.columns)"
   ]
  },
  {
   "cell_type": "code",
   "execution_count": null,
   "id": "bb07a3df",
   "metadata": {},
   "outputs": [],
   "source": [
    "# Combine the imputed numerical columns with the datetime and categorical columns\n",
    "df_imputed = pd.concat([datetime_col, df_imputed, df_categorical], axis=1)"
   ]
  },
  {
   "cell_type": "code",
   "execution_count": null,
   "id": "f3f50015",
   "metadata": {},
   "outputs": [],
   "source": [
    "df_imputed.shape"
   ]
  },
  {
   "cell_type": "code",
   "execution_count": null,
   "id": "e6332da8",
   "metadata": {},
   "outputs": [],
   "source": [
    "df.shape"
   ]
  },
  {
   "cell_type": "code",
   "execution_count": null,
   "id": "03d19c91",
   "metadata": {},
   "outputs": [],
   "source": [
    "missing_df_count = df.isnull().sum()"
   ]
  },
  {
   "cell_type": "code",
   "execution_count": null,
   "id": "b50b947c",
   "metadata": {},
   "outputs": [],
   "source": [
    "# to get an overview of what 5 of our dataset is missing, we can use the following\n",
    "\n",
    "total_obs = np.product(df.shape)\n",
    "total_missing = missing_df_count.sum()\n",
    "\n",
    "\n",
    "# percent of data that is missing\n",
    "(total_missing/total_obs) * 100"
   ]
  },
  {
   "cell_type": "code",
   "execution_count": null,
   "id": "65c6f325",
   "metadata": {},
   "outputs": [],
   "source": []
  }
 ],
 "metadata": {
  "kernelspec": {
   "display_name": "Python 3 (ipykernel)",
   "language": "python",
   "name": "python3"
  },
  "language_info": {
   "codemirror_mode": {
    "name": "ipython",
    "version": 3
   },
   "file_extension": ".py",
   "mimetype": "text/x-python",
   "name": "python",
   "nbconvert_exporter": "python",
   "pygments_lexer": "ipython3",
   "version": "3.9.13"
  }
 },
 "nbformat": 4,
 "nbformat_minor": 5
}
